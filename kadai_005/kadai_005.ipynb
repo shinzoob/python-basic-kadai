{
  "nbformat": 4,
  "nbformat_minor": 0,
  "metadata": {
    "colab": {
      "provenance": []
    },
    "kernelspec": {
      "name": "python3",
      "display_name": "Python 3"
    },
    "language_info": {
      "name": "python"
    }
  },
  "cells": [
    {
      "cell_type": "code",
      "execution_count": 12,
      "metadata": {
        "colab": {
          "base_uri": "https://localhost:8080/",
          "height": 0
        },
        "id": "LoRx5sLJ0oen",
        "outputId": "09633268-c3e0-4f81-a9e6-5e83c66cdf49"
      },
      "outputs": [
        {
          "output_type": "stream",
          "name": "stdout",
          "text": [
            "上底: 10cm\n",
            "下底: 20cm\n",
            "高さ: 5cm\n",
            "\n",
            "台形の面積 = 75.0cm²\n"
          ]
        }
      ],
      "source": [
        "upper_base = 10\n",
        "lower_base = 20\n",
        "height = 5\n",
        "\n",
        "print(f\"上底: {upper_base}cm\")\n",
        "print(f\"下底: {lower_base}cm\")\n",
        "print(f\"高さ: {height}cm\")\n",
        "\n",
        "print()\n",
        "# print(f\"公式：（上辺＋下辺）× 高さ ÷ 2\")\n",
        "area = (upper_base + lower_base ) * height / 2\n",
        "\n",
        "print(f\"台形の面積 = {area}cm²\")\n"
      ]
    }
  ]
}