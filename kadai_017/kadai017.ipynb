{
  "nbformat": 4,
  "nbformat_minor": 0,
  "metadata": {
    "colab": {
      "provenance": []
    },
    "kernelspec": {
      "name": "python3",
      "display_name": "Python 3"
    },
    "language_info": {
      "name": "python"
    }
  },
  "cells": [
    {
      "cell_type": "code",
      "execution_count": 5,
      "metadata": {
        "colab": {
          "base_uri": "https://localhost:8080/"
        },
        "id": "J-1HH_269odU",
        "outputId": "f8dae0ec-bc79-4aa7-91bc-3c2a34fc8e07"
      },
      "outputs": [
        {
          "output_type": "stream",
          "name": "stdout",
          "text": [
            "大人\n",
            "大人\n",
            "大人でない\n",
            "大人でない\n",
            "大人\n"
          ]
        }
      ],
      "source": [
        "import random\n",
        "\n",
        "class Human:\n",
        "  def __init__(self,name,age):\n",
        "    self.name = name\n",
        "    self.age = age\n",
        "\n",
        "  def check_adult(self):\n",
        "    if self.age >= 20:\n",
        "      print(\"大人\")\n",
        "    else:\n",
        "      print(\"大人でない\")\n",
        "\n",
        "human1 = Human(\"水田\",33)\n",
        "human2 = Human(\"木田\",42)\n",
        "human3 = Human(\"金田\",14)\n",
        "human4 = Human(\"土田\",13)\n",
        "human5 = Human(\"日田\",55)\n",
        "\n",
        "human_list = [human1,human2,human3,human4,human5]\n",
        "\n",
        "count = 0\n",
        "while count < len(human_list):\n",
        "  human_list[count].check_adult()\n",
        "  count = count + 1"
      ]
    }
  ]
}