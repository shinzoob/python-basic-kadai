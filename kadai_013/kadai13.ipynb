{
  "nbformat": 4,
  "nbformat_minor": 0,
  "metadata": {
    "colab": {
      "provenance": []
    },
    "kernelspec": {
      "name": "python3",
      "display_name": "Python 3"
    },
    "language_info": {
      "name": "python"
    }
  },
  "cells": [
    {
      "cell_type": "code",
      "execution_count": 3,
      "metadata": {
        "colab": {
          "base_uri": "https://localhost:8080/"
        },
        "id": "XWYrN6z_o71m",
        "outputId": "5d7d6107-b0be-40a5-89de-f89e40d2bf1a"
      },
      "outputs": [
        {
          "output_type": "stream",
          "name": "stdout",
          "text": [
            "1100.0\n"
          ]
        }
      ],
      "source": [
        "def calctax(price, tax):\n",
        "  total = price + price * tax * 0.01\n",
        "  return total\n",
        "\n",
        "goodsprice = 1000\n",
        "tax = 10\n",
        "\n",
        "totalprice = calctax(goodsprice, tax)\n",
        "print(totalprice)\n",
        "\n"
      ]
    }
  ]
}